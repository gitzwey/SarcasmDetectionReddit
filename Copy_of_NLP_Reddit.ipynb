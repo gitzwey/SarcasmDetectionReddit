{
  "nbformat": 4,
  "nbformat_minor": 5,
  "metadata": {
    "kernelspec": {
      "display_name": "Python 3",
      "language": "python",
      "name": "python3"
    },
    "language_info": {
      "codemirror_mode": {
        "name": "ipython",
        "version": 3
      },
      "file_extension": ".py",
      "mimetype": "text/x-python",
      "name": "python",
      "nbconvert_exporter": "python",
      "pygments_lexer": "ipython3",
      "version": "3.8.5"
    },
    "colab": {
      "name": "Copy of NLP Reddit.ipynb",
      "provenance": [],
      "collapsed_sections": [
        "fElJVQlbPf4p",
        "v6f3Z2v_Pf4q",
        "UX3v_rA_Pf4s",
        "iEcHTcLkPf4u",
        "_RbtpUzYPf4v",
        "NBq5osJ7Pf4w"
      ],
      "include_colab_link": true
    }
  },
  "cells": [
    {
      "cell_type": "markdown",
      "metadata": {
        "id": "view-in-github",
        "colab_type": "text"
      },
      "source": [
        "<a href=\"https://colab.research.google.com/github/gitzwey/SarcasmDetectionReddit/blob/main/Copy_of_NLP_Reddit.ipynb\" target=\"_parent\"><img src=\"https://colab.research.google.com/assets/colab-badge.svg\" alt=\"Open In Colab\"/></a>"
      ]
    },
    {
      "cell_type": "markdown",
      "metadata": {
        "id": "mgwnHYurPf4m"
      },
      "source": [
        "## Reddit Sarcasm Detection"
      ],
      "id": "mgwnHYurPf4m"
    },
    {
      "cell_type": "markdown",
      "metadata": {
        "id": "tiGnt6_nPf4o"
      },
      "source": [
        "### Import Libraries"
      ],
      "id": "tiGnt6_nPf4o"
    },
    {
      "cell_type": "code",
      "metadata": {
        "id": "uVq3IduqPf4p",
        "colab": {
          "base_uri": "https://localhost:8080/"
        },
        "outputId": "d4b6c10e-5fd1-4a7f-8033-62a3c54ac7f1"
      },
      "source": [
        "from sklearn.feature_extraction.text import CountVectorizer\n",
        "import pandas as pd\n",
        "import numpy as np\n",
        "import os\n",
        "print(os.getcwd())"
      ],
      "id": "uVq3IduqPf4p",
      "execution_count": 81,
      "outputs": [
        {
          "output_type": "stream",
          "name": "stdout",
          "text": [
            "/content\n"
          ]
        }
      ]
    },
    {
      "cell_type": "markdown",
      "metadata": {
        "id": "fElJVQlbPf4p"
      },
      "source": [
        "### Import CSV"
      ],
      "id": "fElJVQlbPf4p"
    },
    {
      "cell_type": "code",
      "metadata": {
        "id": "iXHTsZ9XPf4p"
      },
      "source": [
        "training_csv_1 = pd.read_csv(\"/content/drive/MyDrive/Colab Notebooks/train-balanced-sarcasm.csv\")"
      ],
      "id": "iXHTsZ9XPf4p",
      "execution_count": null,
      "outputs": []
    },
    {
      "cell_type": "code",
      "metadata": {
        "id": "dFKwXLNXPf4q"
      },
      "source": [
        "training_csv_1[\"comment\"] = training_csv_1[\"comment\"].astype(str)"
      ],
      "id": "dFKwXLNXPf4q",
      "execution_count": null,
      "outputs": []
    },
    {
      "cell_type": "code",
      "metadata": {
        "id": "KX8yHdSLPf4q",
        "colab": {
          "base_uri": "https://localhost:8080/",
          "height": 204
        },
        "outputId": "46cb56be-426f-46fe-bbf3-008ca995c7ef"
      },
      "source": [
        "training_csv_1.head()"
      ],
      "id": "KX8yHdSLPf4q",
      "execution_count": null,
      "outputs": [
        {
          "output_type": "execute_result",
          "data": {
            "text/html": [
              "<div>\n",
              "<style scoped>\n",
              "    .dataframe tbody tr th:only-of-type {\n",
              "        vertical-align: middle;\n",
              "    }\n",
              "\n",
              "    .dataframe tbody tr th {\n",
              "        vertical-align: top;\n",
              "    }\n",
              "\n",
              "    .dataframe thead th {\n",
              "        text-align: right;\n",
              "    }\n",
              "</style>\n",
              "<table border=\"1\" class=\"dataframe\">\n",
              "  <thead>\n",
              "    <tr style=\"text-align: right;\">\n",
              "      <th></th>\n",
              "      <th>label</th>\n",
              "      <th>comment</th>\n",
              "      <th>author</th>\n",
              "      <th>subreddit</th>\n",
              "      <th>score</th>\n",
              "      <th>ups</th>\n",
              "      <th>downs</th>\n",
              "      <th>date</th>\n",
              "      <th>created_utc</th>\n",
              "      <th>parent_comment</th>\n",
              "    </tr>\n",
              "  </thead>\n",
              "  <tbody>\n",
              "    <tr>\n",
              "      <th>0</th>\n",
              "      <td>0</td>\n",
              "      <td>NC and NH.</td>\n",
              "      <td>Trumpbart</td>\n",
              "      <td>politics</td>\n",
              "      <td>2</td>\n",
              "      <td>-1</td>\n",
              "      <td>-1</td>\n",
              "      <td>2016-10</td>\n",
              "      <td>2016-10-16 23:55:23</td>\n",
              "      <td>Yeah, I get that argument. At this point, I'd ...</td>\n",
              "    </tr>\n",
              "    <tr>\n",
              "      <th>1</th>\n",
              "      <td>0</td>\n",
              "      <td>You do know west teams play against west teams...</td>\n",
              "      <td>Shbshb906</td>\n",
              "      <td>nba</td>\n",
              "      <td>-4</td>\n",
              "      <td>-1</td>\n",
              "      <td>-1</td>\n",
              "      <td>2016-11</td>\n",
              "      <td>2016-11-01 00:24:10</td>\n",
              "      <td>The blazers and Mavericks (The wests 5 and 6 s...</td>\n",
              "    </tr>\n",
              "    <tr>\n",
              "      <th>2</th>\n",
              "      <td>0</td>\n",
              "      <td>They were underdogs earlier today, but since G...</td>\n",
              "      <td>Creepeth</td>\n",
              "      <td>nfl</td>\n",
              "      <td>3</td>\n",
              "      <td>3</td>\n",
              "      <td>0</td>\n",
              "      <td>2016-09</td>\n",
              "      <td>2016-09-22 21:45:37</td>\n",
              "      <td>They're favored to win.</td>\n",
              "    </tr>\n",
              "    <tr>\n",
              "      <th>3</th>\n",
              "      <td>0</td>\n",
              "      <td>This meme isn't funny none of the \"new york ni...</td>\n",
              "      <td>icebrotha</td>\n",
              "      <td>BlackPeopleTwitter</td>\n",
              "      <td>-8</td>\n",
              "      <td>-1</td>\n",
              "      <td>-1</td>\n",
              "      <td>2016-10</td>\n",
              "      <td>2016-10-18 21:03:47</td>\n",
              "      <td>deadass don't kill my buzz</td>\n",
              "    </tr>\n",
              "    <tr>\n",
              "      <th>4</th>\n",
              "      <td>0</td>\n",
              "      <td>I could use one of those tools.</td>\n",
              "      <td>cush2push</td>\n",
              "      <td>MaddenUltimateTeam</td>\n",
              "      <td>6</td>\n",
              "      <td>-1</td>\n",
              "      <td>-1</td>\n",
              "      <td>2016-12</td>\n",
              "      <td>2016-12-30 17:00:13</td>\n",
              "      <td>Yep can confirm I saw the tool they use for th...</td>\n",
              "    </tr>\n",
              "  </tbody>\n",
              "</table>\n",
              "</div>"
            ],
            "text/plain": [
              "   label  ...                                     parent_comment\n",
              "0      0  ...  Yeah, I get that argument. At this point, I'd ...\n",
              "1      0  ...  The blazers and Mavericks (The wests 5 and 6 s...\n",
              "2      0  ...                            They're favored to win.\n",
              "3      0  ...                         deadass don't kill my buzz\n",
              "4      0  ...  Yep can confirm I saw the tool they use for th...\n",
              "\n",
              "[5 rows x 10 columns]"
            ]
          },
          "metadata": {},
          "execution_count": 36
        }
      ]
    },
    {
      "cell_type": "markdown",
      "metadata": {
        "id": "v6f3Z2v_Pf4q"
      },
      "source": [
        "### Exploratory Data Analysis"
      ],
      "id": "v6f3Z2v_Pf4q"
    },
    {
      "cell_type": "code",
      "metadata": {
        "id": "CshSkF2WPf4q",
        "colab": {
          "base_uri": "https://localhost:8080/"
        },
        "outputId": "c0d32edc-4ba6-42d5-df0f-d6ab3b883d7a"
      },
      "source": [
        "print(f\"The total training data has {training_csv_1.author.nunique()} rows.\")\n",
        "training_csv_1.groupby(\"author\").mean()[\"label\"].value_counts()"
      ],
      "id": "CshSkF2WPf4q",
      "execution_count": null,
      "outputs": [
        {
          "output_type": "stream",
          "name": "stdout",
          "text": [
            "The total training data has 256561 rows.\n"
          ]
        },
        {
          "output_type": "execute_result",
          "data": {
            "text/plain": [
              "0.500000    251903\n",
              "1.000000      2302\n",
              "0.333333       770\n",
              "0.400000       405\n",
              "0.428571       268\n",
              "             ...  \n",
              "0.494949         1\n",
              "0.477273         1\n",
              "0.533333         1\n",
              "0.494505         1\n",
              "0.490385         1\n",
              "Name: label, Length: 64, dtype: int64"
            ]
          },
          "metadata": {},
          "execution_count": 35
        }
      ]
    },
    {
      "cell_type": "markdown",
      "metadata": {
        "id": "_CxBtOlXPf4q"
      },
      "source": [
        "##### The authors is mostly 0.5 probability of each label, might consider dropping it"
      ],
      "id": "_CxBtOlXPf4q"
    },
    {
      "cell_type": "code",
      "metadata": {
        "id": "sVaNH3mPPf4r",
        "colab": {
          "base_uri": "https://localhost:8080/"
        },
        "outputId": "81270e56-0d73-42b0-f37e-bb25c83d0c54"
      },
      "source": [
        "print(f\"The total training data has {training_csv_1.subreddit.nunique()} rows.\")\n",
        "training_csv_1.groupby(\"subreddit\").mean()[\"label\"].value_counts()"
      ],
      "id": "sVaNH3mPPf4r",
      "execution_count": null,
      "outputs": [
        {
          "output_type": "stream",
          "name": "stdout",
          "text": [
            "The total training data has 14878 rows.\n"
          ]
        },
        {
          "output_type": "execute_result",
          "data": {
            "text/plain": [
              "0.000000    5883\n",
              "1.000000    2042\n",
              "0.500000    1242\n",
              "0.333333     585\n",
              "0.250000     362\n",
              "            ... \n",
              "0.524590       1\n",
              "0.512048       1\n",
              "0.132075       1\n",
              "0.379574       1\n",
              "0.522388       1\n",
              "Name: label, Length: 1430, dtype: int64"
            ]
          },
          "metadata": {},
          "execution_count": 67
        }
      ]
    },
    {
      "cell_type": "markdown",
      "metadata": {
        "id": "DQovOLbOPf4r"
      },
      "source": [
        "##### Subreddit seems to provide more info than expected, should probably keep"
      ],
      "id": "DQovOLbOPf4r"
    },
    {
      "cell_type": "code",
      "metadata": {
        "id": "fjoM9TYkPf4r"
      },
      "source": [
        "training_csv_1[[\"ups\", \"downs\"]]"
      ],
      "id": "fjoM9TYkPf4r",
      "execution_count": null,
      "outputs": []
    },
    {
      "cell_type": "markdown",
      "metadata": {
        "id": "S-It8THhPf4r"
      },
      "source": [
        "##### Notice how ups and downs seem to have a correlation? Lets test this theory out"
      ],
      "id": "S-It8THhPf4r"
    },
    {
      "cell_type": "code",
      "metadata": {
        "id": "CwWhqcHMPf4r"
      },
      "source": [
        "training_csv_1[training_csv_1[\"ups\"].apply(lambda x: -1 if x <= -1 else 0) != training_csv_1[\"downs\"]]"
      ],
      "id": "CwWhqcHMPf4r",
      "execution_count": null,
      "outputs": []
    },
    {
      "cell_type": "markdown",
      "metadata": {
        "id": "1D9TbWeSPf4s"
      },
      "source": [
        "##### Only 6.1% does not follow the rules, is downs worth keeping? Debatable I guess"
      ],
      "id": "1D9TbWeSPf4s"
    },
    {
      "cell_type": "markdown",
      "metadata": {
        "id": "UX3v_rA_Pf4s"
      },
      "source": [
        "### Build model using Comment Column only (Unigram Model)"
      ],
      "id": "UX3v_rA_Pf4s"
    },
    {
      "cell_type": "code",
      "metadata": {
        "id": "nBmUCydEPf4s"
      },
      "source": [
        "from sklearn.model_selection import train_test_split\n",
        "from sklearn.linear_model import SGDClassifier"
      ],
      "id": "nBmUCydEPf4s",
      "execution_count": null,
      "outputs": []
    },
    {
      "cell_type": "code",
      "metadata": {
        "id": "K0yarcCpPf4s"
      },
      "source": [
        "from sklearn.metrics import precision_score\n",
        "from sklearn.metrics import recall_score\n",
        "from sklearn.metrics import f1_score\n",
        "from sklearn.metrics import accuracy_score"
      ],
      "id": "K0yarcCpPf4s",
      "execution_count": null,
      "outputs": []
    },
    {
      "cell_type": "code",
      "metadata": {
        "id": "MpH-nUcUPf4t"
      },
      "source": [
        "## Better abstraction\n",
        "\n",
        "class sklearnClassifier:\n",
        "    def __init__(self, model, data, label, fitBool = True):\n",
        "        self.model = model\n",
        "        if fitBool: self.fit(data, label)\n",
        "            \n",
        "    def fit(self, data, label):\n",
        "        self.model.fit(data, label)\n",
        "    \n",
        "    def score(self, X, y_true):\n",
        "        y_pred = self.model.predict(X)\n",
        "        print(f\"Accuracy score: {accuracy_score(y_true, y_pred)}\")\n",
        "        print(f\"Recall score: {recall_score(y_true, y_pred)}\")\n",
        "        print(f\"Precision score: {precision_score(y_true, y_pred)}\")\n",
        "        print(f\"F1 score: {f1_score(y_true, y_pred)}\")"
      ],
      "id": "MpH-nUcUPf4t",
      "execution_count": null,
      "outputs": []
    },
    {
      "cell_type": "code",
      "metadata": {
        "id": "oHzVOn-lPf4t"
      },
      "source": [
        "training_csv_1[\"comment\"] = training_csv_1[\"comment\"].apply(lambda x: x.lower())"
      ],
      "id": "oHzVOn-lPf4t",
      "execution_count": null,
      "outputs": []
    },
    {
      "cell_type": "code",
      "metadata": {
        "id": "FOoZMHKjPf4t"
      },
      "source": [
        "X_train, X_val, y_train, y_val = train_test_split(\n",
        "    training_csv_1[\"comment\"], \n",
        "    training_csv_1[\"label\"], \n",
        "    test_size = 0.2\n",
        ")"
      ],
      "id": "FOoZMHKjPf4t",
      "execution_count": null,
      "outputs": []
    },
    {
      "cell_type": "code",
      "metadata": {
        "id": "P8j2IzPZPf4u"
      },
      "source": [
        "def create_ngram_vectorizer(text_train, ngram_range = (1,1), **kwargs):\n",
        "    vectorizer = CountVectorizer(ngram_range = ngram_range, **kwargs)\n",
        "    vectorizer.fit(text_train)\n",
        "    return vectorizer"
      ],
      "id": "P8j2IzPZPf4u",
      "execution_count": null,
      "outputs": []
    },
    {
      "cell_type": "code",
      "metadata": {
        "id": "1lo0n4uEPf4u"
      },
      "source": [
        "unigram_vectorizer = create_ngram_vectorizer(X_train)"
      ],
      "id": "1lo0n4uEPf4u",
      "execution_count": null,
      "outputs": []
    },
    {
      "cell_type": "code",
      "metadata": {
        "id": "6Yt8qbTDPf4u"
      },
      "source": [
        "X_train_transformed = unigram_vectorizer.transform(X_train)\n",
        "X_val_transformed = unigram_vectorizer.transform(X_val)"
      ],
      "id": "6Yt8qbTDPf4u",
      "execution_count": null,
      "outputs": []
    },
    {
      "cell_type": "code",
      "metadata": {
        "id": "30FcYnNnPf4u"
      },
      "source": [
        "base_classifier = sklearnClassifier(SGDClassifier(), X_train_transformed, y_train)"
      ],
      "id": "30FcYnNnPf4u",
      "execution_count": null,
      "outputs": []
    },
    {
      "cell_type": "code",
      "metadata": {
        "id": "hzXd4FtMPf4u"
      },
      "source": [
        "print(\"Training: \")\n",
        "base_classifier.score(X_train_transformed, y_train)\n",
        "print(\"Validation: \")\n",
        "base_classifier.score(X_val_transformed, y_val)"
      ],
      "id": "hzXd4FtMPf4u",
      "execution_count": null,
      "outputs": []
    },
    {
      "cell_type": "markdown",
      "metadata": {
        "id": "iEcHTcLkPf4u"
      },
      "source": [
        "### Now what? Bigrams and Trigrams, LETZ GO!!!"
      ],
      "id": "iEcHTcLkPf4u"
    },
    {
      "cell_type": "code",
      "metadata": {
        "id": "Yp0ruco7Pf4v"
      },
      "source": [
        "# for i in range(1, 3): # Trigram is a bit slow so we'll bring that back later\n",
        "#     igram_vectorizer = create_ngram_vectorizer(X_train, ngram_range = (1,i))\n",
        "#     X_train_transformed = igram_vectorizer.transform(X_train)\n",
        "#     X_val_transformed = igram_vectorizer.transform(X_val)\n",
        "    \n",
        "#     base_classifier = sklearnClassifier(SGDClassifier(), X_train_transformed, y_train)\n",
        "    \n",
        "#     print(\"Training: \")\n",
        "#     base_classifier.score(X_train_transformed, y_train)\n",
        "#     print(\"Validation: \")\n",
        "#     base_classifier.score(X_val_transformed, y_val)\n",
        "#     print()"
      ],
      "id": "Yp0ruco7Pf4v",
      "execution_count": null,
      "outputs": []
    },
    {
      "cell_type": "markdown",
      "metadata": {
        "id": "_RbtpUzYPf4v"
      },
      "source": [
        "### Using TFIDF instead of just counting"
      ],
      "id": "_RbtpUzYPf4v"
    },
    {
      "cell_type": "code",
      "metadata": {
        "id": "opTI56ydPf4v"
      },
      "source": [
        "from sklearn.feature_extraction.text import TfidfVectorizer"
      ],
      "id": "opTI56ydPf4v",
      "execution_count": 49,
      "outputs": []
    },
    {
      "cell_type": "code",
      "metadata": {
        "id": "KY4Zb1b3Pf4v"
      },
      "source": [
        "def create_tfidf_ngram_vectorizer(text_train, ngram_range = (1,1), **kwargs):\n",
        "    vectorizer = TfidfVectorizer(ngram_range = ngram_range, **kwargs)\n",
        "    vectorizer.fit(text_train)\n",
        "    return vectorizer"
      ],
      "id": "KY4Zb1b3Pf4v",
      "execution_count": null,
      "outputs": []
    },
    {
      "cell_type": "code",
      "metadata": {
        "scrolled": false,
        "id": "AvG-O0EbPf4v"
      },
      "source": [
        "# for i in range(1,3):\n",
        "#     tfidf_igram_vectorizer = create_tfidf_ngram_vectorizer(X_train, ngram_range = (1,i))\n",
        "#     X_train_transformed = tfidf_igram_vectorizer.transform(X_train)\n",
        "#     X_val_transformed = tfidf_igram_vectorizer.transform(X_val)\n",
        "    \n",
        "#     base_classifier = sklearnClassifier(SGDClassifier(), X_train_transformed, y_train)\n",
        "    \n",
        "#     print(\"Training: \")\n",
        "#     base_classifier.score(X_train_transformed, y_train)\n",
        "#     print(\"Validation: \")\n",
        "#     base_classifier.score(X_val_transformed, y_val)\n",
        "#     print()"
      ],
      "id": "AvG-O0EbPf4v",
      "execution_count": null,
      "outputs": []
    },
    {
      "cell_type": "markdown",
      "metadata": {
        "id": "NBq5osJ7Pf4w"
      },
      "source": [
        "### Vector Representation Test"
      ],
      "id": "NBq5osJ7Pf4w"
    },
    {
      "cell_type": "code",
      "metadata": {
        "id": "s-L0ez_aPf4w"
      },
      "source": [
        "### Abstraction for easier work\n",
        "class EmbeddingTechniques:\n",
        "    def __init__(self, method):\n",
        "        self.transformMethod = method\n",
        "    \n",
        "    def transform(self, X):\n",
        "        return self.transformMethod(X)"
      ],
      "id": "s-L0ez_aPf4w",
      "execution_count": null,
      "outputs": []
    },
    {
      "cell_type": "code",
      "metadata": {
        "id": "XPQ1r5XGPf4w"
      },
      "source": [
        "class EmbeddingTester:\n",
        "    def __init__(self, sklearnmodel):\n",
        "        self.list_of_techniques = {}\n",
        "        self.tokenized = {}\n",
        "        self.model = sklearnmodel\n",
        "        \n",
        "    def addEmbeddingTechniques(self, key, method, tokenized = False):\n",
        "        self.list_of_techniques[key] = method\n",
        "        self.tokenized[key] = tokenized\n",
        "        \n",
        "        \n",
        "    def testModel(self, X_train_transformed, y_train_true, X_test_transformed, y_test_true, text = None):\n",
        "        if text is not None: print(text)\n",
        "        self.model.fit(X_train_transformed, y_train_true)\n",
        "        print(\"Training: \")\n",
        "        self.model.score(X_train_transformed, y_train_true)\n",
        "        print()\n",
        "        print(\"Validation: \")\n",
        "        self.model.score(X_test_transformed, y_test_true)\n",
        "        print(\"-\" * 80)\n",
        "        \n",
        "    def test(self, X_train_untransformed, y_train_true, X_test_untransformed, y_test_true,\n",
        "            X_train_tokenized, X_test_tokenized):\n",
        "        for key, val in self.list_of_techniques.items():\n",
        "            if self.tokenized[key]:\n",
        "                X_train_transformed = val.transform(X_train_tokenized)\n",
        "                X_test_transformed = val.transform(X_test_tokenized)\n",
        "            else:\n",
        "                X_train_transformed = val.transform(X_train_untransformed)\n",
        "                X_test_transformed = val.transform(X_test_untransformed)\n",
        "            self.testModel(X_train_transformed, y_train_true, X_test_transformed, y_test_true, text = key)"
      ],
      "id": "XPQ1r5XGPf4w",
      "execution_count": null,
      "outputs": []
    },
    {
      "cell_type": "code",
      "metadata": {
        "id": "51Lf4rt7Pf4w"
      },
      "source": [
        "tester = EmbeddingTester(base_classifier)\n",
        "tester.addEmbeddingTechniques(\n",
        "    \"Count Vectorizer(No stopwords removal)\", \n",
        "    create_ngram_vectorizer(X_train, ngram_range = (1,2))\n",
        ")\n",
        "\n",
        "tester.addEmbeddingTechniques(\n",
        "    \"TFIDF Vectorizer(No stopwords removal)\", \n",
        "    create_tfidf_ngram_vectorizer(X_train, ngram_range = (1,2))\n",
        ")\n",
        "\n",
        "tester.addEmbeddingTechniques(\n",
        "    \"Count Vectorizer(With stopwords removal)\", \n",
        "    create_ngram_vectorizer(X_train, ngram_range = (1,2), stop_words='english')\n",
        ")\n",
        "\n",
        "tester.addEmbeddingTechniques(\n",
        "    \"TFIDF Vectorizer(With stopwords removal)\", \n",
        "    create_tfidf_ngram_vectorizer(X_train, ngram_range = (1,2), stop_words='english')\n",
        ")"
      ],
      "id": "51Lf4rt7Pf4w",
      "execution_count": null,
      "outputs": []
    },
    {
      "cell_type": "code",
      "metadata": {
        "id": "jzs3_emqPf4w"
      },
      "source": [
        "## Thanks Rama, like srsly\n",
        "from gensim.models import Word2Vec\n",
        "from nltk.tokenize import TreebankWordTokenizer"
      ],
      "id": "jzs3_emqPf4w",
      "execution_count": null,
      "outputs": []
    },
    {
      "cell_type": "code",
      "metadata": {
        "id": "Udtglw-yPf4w"
      },
      "source": [
        "vector_size = 128\n",
        "word_tokenizer = TreebankWordTokenizer()\n",
        "\n",
        "X_train_tokenized = [word_tokenizer.tokenize(text) for text in X_train]\n",
        "X_val_tokenized = [word_tokenizer.tokenize(text) for text in X_val]\n",
        "\n",
        "model = Word2Vec(X_train_tokenized, min_count = 1, vector_size= vector_size, workers = 3, window = 3, sg = 1)"
      ],
      "id": "Udtglw-yPf4w",
      "execution_count": null,
      "outputs": []
    },
    {
      "cell_type": "code",
      "metadata": {
        "id": "0X443WyDPf4x"
      },
      "source": [
        "def transform(X_tokenized):\n",
        "    temp = np.matrix(\n",
        "        [np.mean([model.wv[i] if i in model.wv else np.array([0.0] * vector_size, dtype=np.float64) for i in tokens], axis = 0) for tokens in X_tokenized],\n",
        "        dtype=np.float64\n",
        "    )\n",
        "    return temp"
      ],
      "id": "0X443WyDPf4x",
      "execution_count": null,
      "outputs": []
    },
    {
      "cell_type": "code",
      "metadata": {
        "id": "9cspldRuPf4x"
      },
      "source": [
        "tester.addEmbeddingTechniques(\n",
        "    \"word2Vec Mean Embedding\", \n",
        "    EmbeddingTechniques(transform),\n",
        "    True\n",
        ")\n",
        "\n",
        "tester.test(X_train, y_train, X_val, y_val, X_train_tokenized, X_val_tokenized)"
      ],
      "id": "9cspldRuPf4x",
      "execution_count": null,
      "outputs": []
    },
    {
      "cell_type": "markdown",
      "metadata": {
        "id": "791KCoEWPf4x"
      },
      "source": [
        "## Feature Engineering"
      ],
      "id": "791KCoEWPf4x"
    },
    {
      "cell_type": "markdown",
      "metadata": {
        "id": "rublfy8QPf4x"
      },
      "source": [
        "### Imports"
      ],
      "id": "rublfy8QPf4x"
    },
    {
      "cell_type": "code",
      "metadata": {
        "id": "KlOSIFBRPf4x",
        "colab": {
          "base_uri": "https://localhost:8080/"
        },
        "outputId": "20ecb0ea-9d3f-4928-90d6-297fe723664a"
      },
      "source": [
        "from nltk.tokenize import TreebankWordTokenizer, WordPunctTokenizer\n",
        "from nltk.stem import WordNetLemmatizer, PorterStemmer\n",
        "from nltk.corpus import stopwords\n",
        "from nltk import word_tokenize\n",
        "import nltk\n",
        "\n",
        "nltk.download('stopwords')\n",
        "porter_stemmer = PorterStemmer()\n",
        "word_tokenizer = TreebankWordTokenizer()\n",
        "word_tokenizer2 = WordPunctTokenizer()\n",
        "lemmatizer = WordNetLemmatizer()"
      ],
      "id": "KlOSIFBRPf4x",
      "execution_count": 82,
      "outputs": [
        {
          "output_type": "stream",
          "name": "stdout",
          "text": [
            "[nltk_data] Downloading package stopwords to /root/nltk_data...\n",
            "[nltk_data]   Package stopwords is already up-to-date!\n"
          ]
        }
      ]
    },
    {
      "cell_type": "code",
      "metadata": {
        "id": "43AquyTObPBW"
      },
      "source": [
        "stopwords.words('english')"
      ],
      "id": "43AquyTObPBW",
      "execution_count": null,
      "outputs": []
    },
    {
      "cell_type": "code",
      "metadata": {
        "id": "qrm1Y1sOPf4y"
      },
      "source": [
        "## tokenize cols\n",
        "## Define function to remove stopwords and tokenize comments and or parent_comments\n",
        "def create_stopwords_dict():\n",
        "  stopwords_dict = {}\n",
        "  for word in set(stopwords.words('english')):\n",
        "    stopwords_dict[word] = True\n",
        "  return stopwords_dict\n",
        "\n",
        "stop_words_dict = create_stopwords_dict()\n",
        "\n",
        "\n",
        "def remove_stopwords_and_tokenize(text):\n",
        "  arr = word_tokenizer.tokenize(text)\n",
        "  arr = [word for word in arr if word not in stop_words_dict]\n",
        "  return arr\n",
        "\n",
        "def remove_stopwords_and_tokenize_cols_in_dataset(dataset, cols):\n",
        "    for col in cols:\n",
        "        dataset.dropna(subset=[col], inplace=True)\n",
        "        dataset[col] = dataset[col].apply(lambda x: remove_stopwords_and_tokenize(x))\n",
        "        dataset[col] = dataset[col].apply(lambda x: remove_stopwords_and_tokenize(x))\n",
        "    return dataset"
      ],
      "id": "qrm1Y1sOPf4y",
      "execution_count": 83,
      "outputs": []
    },
    {
      "cell_type": "code",
      "metadata": {
        "id": "RDHpjy9OPf4y"
      },
      "source": [
        "## After tokenization\n",
        "## Define function to add length of comments and or parent comments\n",
        "def add_length_feature_to_dataset(dataset, cols):\n",
        "    for col in cols:\n",
        "        new_col = \"num_\" + col + \"_words\" \n",
        "        dataset[new_col] = dataset[col].apply(lambda x: len(x))\n",
        "    return dataset"
      ],
      "id": "RDHpjy9OPf4y",
      "execution_count": 5,
      "outputs": []
    },
    {
      "cell_type": "code",
      "metadata": {
        "id": "bSu9YxXZPf4y"
      },
      "source": [
        "## Define a function that splits training set into just sarcasm and just non-sarcasm\n",
        "def split_training_dataset_into_separate_labels(training_dataset):\n",
        "    sarcasm = training_dataset[training_dataset['label'] == 1]\n",
        "    non_sarcasm = training_dataset[training_dataset['label'] == 0]\n",
        "    return sarcasm, non_sarcasm\n",
        "\n",
        "## Define function to engineer features for model such as subreddit history and author history\n",
        "def feature_history(training_dataset, col):\n",
        "    history_sarcasm = {}\n",
        "    history_non_sarcasm = {}\n",
        "    \n",
        "    total_comments_by_feature_history = {}\n",
        "    proportion_sarcasm_by_feature_history = {}\n",
        "    \n",
        "    for index, row in training_dataset.iterrows():\n",
        "        if int(row['label']) == 1:\n",
        "            if row[col] not in history_sarcasm:\n",
        "                history_sarcasm[row[col]] = 0\n",
        "                history_non_sarcasm[row[col]] = 0\n",
        "            history_sarcasm[row[col]] += 1\n",
        "    \n",
        "        elif int(row['label']) == 0:\n",
        "            if row[col] not in history_non_sarcasm:\n",
        "                history_non_sarcasm[row[col]] = 0\n",
        "                history_sarcasm[row[col]] = 0\n",
        "            history_non_sarcasm[row[col]] += 1\n",
        "    \n",
        "    for val in history_sarcasm.keys():\n",
        "        num_sarcasm = history_sarcasm[val]\n",
        "        num_non_sarcasm = history_non_sarcasm[val]\n",
        "        total_comments = num_sarcasm + num_non_sarcasm\n",
        "        sarcasm_proportion = num_sarcasm/total_comments\n",
        "        \n",
        "        proportion_sarcasm_by_feature_history[val] = sarcasm_proportion\n",
        "        total_comments_by_feature_history[val] = total_comments\n",
        "    \n",
        "    return proportion_sarcasm_by_feature_history, total_comments_by_feature_history\n",
        "\n",
        "\n",
        "\n",
        "## Define function to prepare training dataset\n",
        "\n",
        "def add_feature_history_to_train(train_dataset, col):\n",
        "    (proportion_history, total_comments_history) = feature_history(train_dataset, col)\n",
        "    proportion_col = \"sarcasm_proportion_by_\" + col\n",
        "    total_col = \"total_num_comments_by_\" + col\n",
        "    \n",
        "    train_dataset[proportion_col] = train_dataset[col].apply(lambda x: proportion_history[x])\n",
        "    train_dataset[total_col] = train_dataset[col].apply(lambda x: total_comments_history[x])\n",
        "    \n",
        "    return train_dataset\n",
        "\n",
        "## Define function to prepare testing dataset\n",
        "\n",
        "def calculate_mean(table):\n",
        "    values = table.values()\n",
        "    return sum(values)/(len(values))\n",
        "\n",
        "def add_feature_history_to_test(test_dataset, col, proportion_history, total_comments_history):\n",
        "    default_proportion = calculate_mean(proportion_history)\n",
        "    default_total_comments = calculate_mean(total_comments_history)\n",
        "    \n",
        "    def getProportion(col_val):\n",
        "        proportion = default_proportion\n",
        "        if col_val in proportion_history:\n",
        "            proportion = proportion_history[col_val]\n",
        "    \n",
        "        return proportion\n",
        "    \n",
        "    def getTotal(col_val):\n",
        "        total = default_total_comments\n",
        "        if col_val in total_comments_history:\n",
        "            total = total_comments_history[col_val]\n",
        "        \n",
        "        return total\n",
        "    \n",
        "    proportion_col = \"sarcasm_proportion_by_\" + col\n",
        "    total_col = \"total_num_comments_by_\" + col\n",
        "    \n",
        "    test_dataset[proportion_col] = test_dataset[col].apply(lambda x: getProportion(x))\n",
        "    test_dataset[total_col] = test_dataset[col].apply(lambda x: getTotal(x))\n",
        "    \n",
        "    return test_dataset"
      ],
      "id": "bSu9YxXZPf4y",
      "execution_count": 6,
      "outputs": []
    },
    {
      "cell_type": "code",
      "metadata": {
        "id": "CUNBBCSMPf4z"
      },
      "source": [
        "## Before tokenizing\n",
        "## Counting number of exclamation marks\n",
        "def count_num_exclamation_marks(text):\n",
        "    return text.count(\"!\")\n",
        "        \n",
        "def add_num_exclamation_mark_in_feature(dataset, cols):\n",
        "    for col in cols:\n",
        "        dataset[col + \"_num_exclamation_marks\"] = dataset[col].apply(lambda x: count_num_exclamation_marks(x))\n",
        "    return dataset"
      ],
      "id": "CUNBBCSMPf4z",
      "execution_count": 7,
      "outputs": []
    },
    {
      "cell_type": "code",
      "metadata": {
        "id": "dmmCEtSSPf4z"
      },
      "source": [
        "## Before tokenizing\n",
        "## Counting number of repeated exclamation marks\n",
        "def count_num_repeated_explanation_marks(text):\n",
        "    return text.count(\"!!\")\n",
        "\n",
        "def add_num_repeated_exclamation_mark_in_feature(dataset, cols):\n",
        "    for col in cols:\n",
        "        dataset[col + \"_num_repeated_exclamation_marks\"] = dataset[col].apply(lambda x: count_num_repeated_explanation_marks(x))\n",
        "    return dataset"
      ],
      "id": "dmmCEtSSPf4z",
      "execution_count": 8,
      "outputs": []
    },
    {
      "cell_type": "code",
      "metadata": {
        "id": "OHXCPWzjPf4z"
      },
      "source": [
        "## Before tokenizing\n",
        "## Count number of emoticons\n",
        "def count_num_common_emoticons(text):\n",
        "    common_emoticons = [\":(\", \":)\", \"<3\", \":'(\", \":')\", \"):\", \"(:\", \"</3\"]\n",
        "    count = 0\n",
        "    for emoticon in common_emoticons:\n",
        "        count += text.count(emoticon)\n",
        "    return count\n",
        "\n",
        "def add_num_emoticons_in_feature(dataset, cols):\n",
        "    for col in cols:\n",
        "        dataset[col + \"_num_emoticons\"] = dataset[col].apply(lambda x: count_num_common_emoticons(x))\n",
        "    return dataset"
      ],
      "id": "OHXCPWzjPf4z",
      "execution_count": 9,
      "outputs": []
    },
    {
      "cell_type": "code",
      "metadata": {
        "id": "WqRpPKL5Pf4z"
      },
      "source": [
        "## Before tokenizing\n",
        "## Count number of common \"slang\" style abbreviations\n",
        "def count_num_common_slang(text):\n",
        "    common_slang = [\"kms\", \"smh\", \"smdh\", \"smfh\", \"rofl\", \"roflmao\", \"sic\", \n",
        "                    \"lol\", \"yolo\", \"ikr \", \"dfkm\", \"lmao\", \"ofc\", \"surprise surprise\",\n",
        "                   ]\n",
        "    count = 0\n",
        "    text = text.casefold()\n",
        "    for slang in common_slang:\n",
        "        count += text.count(slang)\n",
        "    return count\n",
        "\n",
        "def add_num_slang_in_feature(dataset, cols):\n",
        "    for col in cols:\n",
        "        dataset[col + \"_num_slang\"] = dataset[col].apply(lambda x: count_num_common_slang(x))\n",
        "    return dataset"
      ],
      "id": "WqRpPKL5Pf4z",
      "execution_count": 10,
      "outputs": []
    },
    {
      "cell_type": "code",
      "metadata": {
        "id": "Gxgt4DFAQzzR"
      },
      "source": [
        "!pip install text2emotion"
      ],
      "id": "Gxgt4DFAQzzR",
      "execution_count": null,
      "outputs": []
    },
    {
      "cell_type": "code",
      "metadata": {
        "id": "rpLCBWQdPf4z"
      },
      "source": [
        "## Before tokenizing\n",
        "## Measure emotions of text\n",
        "import text2emotion as t2e\n",
        "def get_emotions_from_text(text):\n",
        "    return t2e.get_emotion(text)\n",
        "\n",
        "def get_emotion_from_text(text, emotion):\n",
        "    return get_emotions_from_text(text)[emotion]\n",
        "\n",
        "\n",
        "\n",
        "def add_emotions_features_to_dataset(dataset, cols, emotions):\n",
        "    for col in cols:\n",
        "        for emotion in emotions:\n",
        "            col_name = col + \"_\" + emotion\n",
        "            dataset[col_name] = dataset[col].apply(lambda x: get_emotion_from_text(x, emotion))\n",
        "    return dataset\n",
        "\n",
        "print(get_emotions_from_text(\"I love you\"))\n",
        "print(get_emotion_from_text(\"I love you\", \"Happy\"))"
      ],
      "id": "rpLCBWQdPf4z",
      "execution_count": null,
      "outputs": []
    },
    {
      "cell_type": "code",
      "metadata": {
        "id": "tcw3HrbUQ8fY"
      },
      "source": [
        "!pip install pyspellchecker"
      ],
      "id": "tcw3HrbUQ8fY",
      "execution_count": null,
      "outputs": []
    },
    {
      "cell_type": "code",
      "metadata": {
        "id": "oj30XZjyPf4z"
      },
      "source": [
        "## After tokenizing\n",
        "## Count number of misspelled words\n",
        "from spellchecker import SpellChecker\n",
        "\n",
        "spellchecker = SpellChecker(language=\"en\")\n",
        "\n",
        "def count_number_of_misspelled_words(text):\n",
        "    count = 0\n",
        "    misspelled_words = spellchecker.unknown(text)\n",
        "    return len(misspelled_words)\n",
        "\n",
        "def add_num_misspelled_words_feature(dataset, cols):\n",
        "    for col in cols:\n",
        "        dataset[col + \"_num_misspelled_words\"] = dataset[col].apply(lambda x: count_number_of_misspelled_words)\n",
        "    return dataset"
      ],
      "id": "oj30XZjyPf4z",
      "execution_count": 14,
      "outputs": []
    },
    {
      "cell_type": "code",
      "metadata": {
        "id": "908hv-DnPf40"
      },
      "source": [
        "## After tokenizing\n",
        "## Measure misspelling in a different way - by summing up edit distances\n",
        "from nltk.metrics import edit_distance\n",
        "\n",
        "def measure_sum_of_edit_distances(text):\n",
        "    distances = 0\n",
        "    misspelled_words = spellchecker.unknown(text)\n",
        "    for misspelled_word in misspelled_words:\n",
        "        corrected_word = spellchecker.correction(misspelled_word)\n",
        "        distances += edit_distance(corrected_word, misspelled_word)\n",
        "    return distances\n",
        "\n",
        "def add_sum_of_edit_distances_feature(dataset, cols):\n",
        "    for col in cols:\n",
        "        dataset[col + \"_edit_distance_misspelled_words\"] = dataset[col].apply(lambda x: measure_sum_of_edit_distances(x))\n",
        "    return dataset"
      ],
      "id": "908hv-DnPf40",
      "execution_count": 15,
      "outputs": []
    },
    {
      "cell_type": "code",
      "metadata": {
        "colab": {
          "base_uri": "https://localhost:8080/"
        },
        "id": "W_OmkiHAgFLA",
        "outputId": "68433781-79c5-4cb5-de43-8e4b4e8304a6"
      },
      "source": [
        "from google.colab import drive\n",
        "drive.mount('/content/drive')"
      ],
      "id": "W_OmkiHAgFLA",
      "execution_count": 16,
      "outputs": [
        {
          "output_type": "stream",
          "name": "stdout",
          "text": [
            "Mounted at /content/drive\n"
          ]
        }
      ]
    },
    {
      "cell_type": "code",
      "metadata": {
        "id": "S5A9d_nMPf40"
      },
      "source": [
        "## Load CSV\n",
        "training_csv_feature_engineering = pd.read_csv(\"/content/drive/MyDrive/Colab Notebooks/train-balanced-sarcasm.csv\")\n",
        "## training_csv_feature_engineering.dropna(subset=['comment', 'parent_comment'], inplace=True)\n",
        "training_csv_feature_engineering[\"comment\"] = training_csv_feature_engineering[\"comment\"].astype(str)\n",
        "training_csv_feature_engineering[\"parent_comment\"] = training_csv_feature_engineering[\"parent_comment\"].astype(str)"
      ],
      "id": "S5A9d_nMPf40",
      "execution_count": 17,
      "outputs": []
    },
    {
      "cell_type": "code",
      "metadata": {
        "id": "qbJNcLokPf40"
      },
      "source": [
        "COMMENT_AND_PARENT_COMMENT = [\"comment\", \"parent_comment\"]\n",
        "COMMENT = [\"comment\"]\n",
        "PARENT_COMMENT = [\"parent_comment\"]\n",
        "AUTHOR = \"author\"\n",
        "SUBREDDIT = \"subreddit\"\n",
        "EMOTIONS = [\"Happy\", \"Sad\", \"Angry\", \"Surprise\", \"Fear\"]"
      ],
      "id": "qbJNcLokPf40",
      "execution_count": 18,
      "outputs": []
    },
    {
      "cell_type": "code",
      "metadata": {
        "id": "EO-vKp2aPf40"
      },
      "source": [
        "## Add BEFORE tokenization features\n",
        "training_csv_feature_engineering = add_num_exclamation_mark_in_feature(\n",
        "    training_csv_feature_engineering, COMMENT_AND_PARENT_COMMENT)\n",
        "\n",
        "training_csv_feature_engineering = add_num_repeated_exclamation_mark_in_feature(\n",
        "    training_csv_feature_engineering, COMMENT_AND_PARENT_COMMENT)\n",
        "\n",
        "training_csv_feature_engineering = add_num_emoticons_in_feature(\n",
        "    training_csv_feature_engineering, COMMENT_AND_PARENT_COMMENT)\n",
        "\n",
        "training_csv_feature_engineering = add_num_slang_in_feature(\n",
        "    training_csv_feature_engineering, COMMENT_AND_PARENT_COMMENT)\n",
        "\n",
        "# training_csv_feature_engineering = add_emotions_features_to_dataset(\n",
        "#     training_csv_feature_engineering, COMMENT_AND_PARENT_COMMENT, EMOTIONS)"
      ],
      "id": "EO-vKp2aPf40",
      "execution_count": 23,
      "outputs": []
    },
    {
      "cell_type": "code",
      "metadata": {
        "colab": {
          "base_uri": "https://localhost:8080/",
          "height": 581
        },
        "id": "rdjiJPLLkCZx",
        "outputId": "08e54bce-e022-4bfc-b7c2-ece6f26af5a5"
      },
      "source": [
        "training_csv_feature_engineering.head()"
      ],
      "id": "rdjiJPLLkCZx",
      "execution_count": 24,
      "outputs": [
        {
          "output_type": "execute_result",
          "data": {
            "text/html": [
              "<div>\n",
              "<style scoped>\n",
              "    .dataframe tbody tr th:only-of-type {\n",
              "        vertical-align: middle;\n",
              "    }\n",
              "\n",
              "    .dataframe tbody tr th {\n",
              "        vertical-align: top;\n",
              "    }\n",
              "\n",
              "    .dataframe thead th {\n",
              "        text-align: right;\n",
              "    }\n",
              "</style>\n",
              "<table border=\"1\" class=\"dataframe\">\n",
              "  <thead>\n",
              "    <tr style=\"text-align: right;\">\n",
              "      <th></th>\n",
              "      <th>label</th>\n",
              "      <th>comment</th>\n",
              "      <th>author</th>\n",
              "      <th>subreddit</th>\n",
              "      <th>score</th>\n",
              "      <th>ups</th>\n",
              "      <th>downs</th>\n",
              "      <th>date</th>\n",
              "      <th>created_utc</th>\n",
              "      <th>parent_comment</th>\n",
              "      <th>comment_num_exclamation_marks</th>\n",
              "      <th>parent_comment_num_exclamation_marks</th>\n",
              "      <th>comment_num_repeated_exclamation_marks</th>\n",
              "      <th>parent_comment_num_repeated_exclamation_marks</th>\n",
              "      <th>comment_num_emoticons</th>\n",
              "      <th>parent_comment_num_emoticons</th>\n",
              "      <th>comment_num_slang</th>\n",
              "      <th>parent_comment_num_slang</th>\n",
              "    </tr>\n",
              "  </thead>\n",
              "  <tbody>\n",
              "    <tr>\n",
              "      <th>0</th>\n",
              "      <td>0</td>\n",
              "      <td>NC and NH.</td>\n",
              "      <td>Trumpbart</td>\n",
              "      <td>politics</td>\n",
              "      <td>2</td>\n",
              "      <td>-1</td>\n",
              "      <td>-1</td>\n",
              "      <td>2016-10</td>\n",
              "      <td>2016-10-16 23:55:23</td>\n",
              "      <td>Yeah, I get that argument. At this point, I'd ...</td>\n",
              "      <td>0</td>\n",
              "      <td>0</td>\n",
              "      <td>0</td>\n",
              "      <td>0</td>\n",
              "      <td>0</td>\n",
              "      <td>0</td>\n",
              "      <td>0</td>\n",
              "      <td>0</td>\n",
              "    </tr>\n",
              "    <tr>\n",
              "      <th>1</th>\n",
              "      <td>0</td>\n",
              "      <td>You do know west teams play against west teams...</td>\n",
              "      <td>Shbshb906</td>\n",
              "      <td>nba</td>\n",
              "      <td>-4</td>\n",
              "      <td>-1</td>\n",
              "      <td>-1</td>\n",
              "      <td>2016-11</td>\n",
              "      <td>2016-11-01 00:24:10</td>\n",
              "      <td>The blazers and Mavericks (The wests 5 and 6 s...</td>\n",
              "      <td>0</td>\n",
              "      <td>0</td>\n",
              "      <td>0</td>\n",
              "      <td>0</td>\n",
              "      <td>0</td>\n",
              "      <td>0</td>\n",
              "      <td>0</td>\n",
              "      <td>0</td>\n",
              "    </tr>\n",
              "    <tr>\n",
              "      <th>2</th>\n",
              "      <td>0</td>\n",
              "      <td>They were underdogs earlier today, but since G...</td>\n",
              "      <td>Creepeth</td>\n",
              "      <td>nfl</td>\n",
              "      <td>3</td>\n",
              "      <td>3</td>\n",
              "      <td>0</td>\n",
              "      <td>2016-09</td>\n",
              "      <td>2016-09-22 21:45:37</td>\n",
              "      <td>They're favored to win.</td>\n",
              "      <td>0</td>\n",
              "      <td>0</td>\n",
              "      <td>0</td>\n",
              "      <td>0</td>\n",
              "      <td>0</td>\n",
              "      <td>0</td>\n",
              "      <td>0</td>\n",
              "      <td>0</td>\n",
              "    </tr>\n",
              "    <tr>\n",
              "      <th>3</th>\n",
              "      <td>0</td>\n",
              "      <td>This meme isn't funny none of the \"new york ni...</td>\n",
              "      <td>icebrotha</td>\n",
              "      <td>BlackPeopleTwitter</td>\n",
              "      <td>-8</td>\n",
              "      <td>-1</td>\n",
              "      <td>-1</td>\n",
              "      <td>2016-10</td>\n",
              "      <td>2016-10-18 21:03:47</td>\n",
              "      <td>deadass don't kill my buzz</td>\n",
              "      <td>0</td>\n",
              "      <td>0</td>\n",
              "      <td>0</td>\n",
              "      <td>0</td>\n",
              "      <td>0</td>\n",
              "      <td>0</td>\n",
              "      <td>0</td>\n",
              "      <td>0</td>\n",
              "    </tr>\n",
              "    <tr>\n",
              "      <th>4</th>\n",
              "      <td>0</td>\n",
              "      <td>I could use one of those tools.</td>\n",
              "      <td>cush2push</td>\n",
              "      <td>MaddenUltimateTeam</td>\n",
              "      <td>6</td>\n",
              "      <td>-1</td>\n",
              "      <td>-1</td>\n",
              "      <td>2016-12</td>\n",
              "      <td>2016-12-30 17:00:13</td>\n",
              "      <td>Yep can confirm I saw the tool they use for th...</td>\n",
              "      <td>0</td>\n",
              "      <td>0</td>\n",
              "      <td>0</td>\n",
              "      <td>0</td>\n",
              "      <td>0</td>\n",
              "      <td>0</td>\n",
              "      <td>0</td>\n",
              "      <td>0</td>\n",
              "    </tr>\n",
              "  </tbody>\n",
              "</table>\n",
              "</div>"
            ],
            "text/plain": [
              "   label  ... parent_comment_num_slang\n",
              "0      0  ...                        0\n",
              "1      0  ...                        0\n",
              "2      0  ...                        0\n",
              "3      0  ...                        0\n",
              "4      0  ...                        0\n",
              "\n",
              "[5 rows x 18 columns]"
            ]
          },
          "metadata": {},
          "execution_count": 24
        }
      ]
    },
    {
      "cell_type": "markdown",
      "metadata": {
        "id": "GRlEe9Vv1dsZ"
      },
      "source": [
        "**XGBoost**"
      ],
      "id": "GRlEe9Vv1dsZ"
    },
    {
      "cell_type": "code",
      "metadata": {
        "id": "LTP5Pg4T1byi"
      },
      "source": [
        "from xgboost import XGBClassifier\n",
        "from sklearn import metrics\n",
        "from sklearn.feature_extraction.text import TfidfVectorizer, CountVectorizer\n",
        "from sklearn.model_selection import train_test_split, GridSearchCV, cross_val_score, StratifiedKFold\n",
        "from sklearn.base import BaseEstimator, TransformerMixin\n",
        "from sklearn.pipeline import Pipeline, FeatureUnion\n",
        "import re\n",
        "\n",
        "from sklearn import metrics\n",
        "from sklearn.feature_extraction.text import TfidfVectorizer, CountVectorizer\n",
        "from sklearn.model_selection import train_test_split, GridSearchCV, cross_val_score, StratifiedKFold\n",
        "from sklearn.pipeline import Pipeline, FeatureUnion\n",
        "from sklearn.preprocessing import FunctionTransformer, StandardScaler\n",
        "from sklearn.base import BaseEstimator, TransformerMixin\n",
        "from sklearn.neighbors import KNeighborsClassifier\n",
        "from sklearn.tree import DecisionTreeClassifier\n",
        "from sklearn.ensemble import RandomForestClassifier, AdaBoostClassifier\n",
        "from sklearn.naive_bayes import MultinomialNB\n",
        "from sklearn.dummy import DummyClassifier\n",
        "from xgboost import XGBClassifier\n",
        "\n",
        "import nltk\n",
        "from nltk import word_tokenize\n",
        "from nltk.stem import WordNetLemmatizer \n",
        "from nltk.corpus import stopwords\n",
        "from string import punctuation"
      ],
      "id": "LTP5Pg4T1byi",
      "execution_count": 113,
      "outputs": []
    },
    {
      "cell_type": "code",
      "metadata": {
        "id": "g96h__v65suV"
      },
      "source": [
        "data_sel = training_csv_feature_engineering.drop(['ups', 'downs', 'date', 'created_utc'], axis = 1)"
      ],
      "id": "g96h__v65suV",
      "execution_count": 85,
      "outputs": []
    },
    {
      "cell_type": "code",
      "metadata": {
        "colab": {
          "base_uri": "https://localhost:8080/"
        },
        "id": "7odAZoZJ7ALb",
        "outputId": "dd0b5645-8c84-44ff-c554-a59fae7fbf28"
      },
      "source": [
        "data_sel.shape"
      ],
      "id": "7odAZoZJ7ALb",
      "execution_count": 86,
      "outputs": [
        {
          "output_type": "execute_result",
          "data": {
            "text/plain": [
              "(1010826, 14)"
            ]
          },
          "metadata": {},
          "execution_count": 86
        }
      ]
    },
    {
      "cell_type": "code",
      "metadata": {
        "id": "BPlBxn8K7Qlr"
      },
      "source": [
        "data_single = data_sel.drop_duplicates('comment')"
      ],
      "id": "BPlBxn8K7Qlr",
      "execution_count": 87,
      "outputs": []
    },
    {
      "cell_type": "code",
      "metadata": {
        "colab": {
          "base_uri": "https://localhost:8080/"
        },
        "id": "njlRVpDZ8dPx",
        "outputId": "c21b0229-d387-4b03-ca0c-31b1664d635e"
      },
      "source": [
        "data_single.shape"
      ],
      "id": "njlRVpDZ8dPx",
      "execution_count": 88,
      "outputs": [
        {
          "output_type": "execute_result",
          "data": {
            "text/plain": [
              "(962295, 14)"
            ]
          },
          "metadata": {},
          "execution_count": 88
        }
      ]
    },
    {
      "cell_type": "code",
      "metadata": {
        "id": "EwIRxuqH8jI5"
      },
      "source": [
        "data_single = data_single.dropna(subset=['comment'])"
      ],
      "id": "EwIRxuqH8jI5",
      "execution_count": 89,
      "outputs": []
    },
    {
      "cell_type": "code",
      "metadata": {
        "colab": {
          "base_uri": "https://localhost:8080/"
        },
        "id": "XfM5BkDL84wh",
        "outputId": "45ffdcd6-256b-49bf-bac6-c340ddd9dae9"
      },
      "source": [
        "data_single.shape"
      ],
      "id": "XfM5BkDL84wh",
      "execution_count": 90,
      "outputs": [
        {
          "output_type": "execute_result",
          "data": {
            "text/plain": [
              "(962295, 14)"
            ]
          },
          "metadata": {},
          "execution_count": 90
        }
      ]
    },
    {
      "cell_type": "code",
      "metadata": {
        "colab": {
          "base_uri": "https://localhost:8080/",
          "height": 461
        },
        "id": "ld3M6MPp88z6",
        "outputId": "cd525344-62e3-4d9a-90dd-dcbbe47bbeeb"
      },
      "source": [
        "data_single.describe(include='all')"
      ],
      "id": "ld3M6MPp88z6",
      "execution_count": 91,
      "outputs": [
        {
          "output_type": "execute_result",
          "data": {
            "text/html": [
              "<div>\n",
              "<style scoped>\n",
              "    .dataframe tbody tr th:only-of-type {\n",
              "        vertical-align: middle;\n",
              "    }\n",
              "\n",
              "    .dataframe tbody tr th {\n",
              "        vertical-align: top;\n",
              "    }\n",
              "\n",
              "    .dataframe thead th {\n",
              "        text-align: right;\n",
              "    }\n",
              "</style>\n",
              "<table border=\"1\" class=\"dataframe\">\n",
              "  <thead>\n",
              "    <tr style=\"text-align: right;\">\n",
              "      <th></th>\n",
              "      <th>label</th>\n",
              "      <th>comment</th>\n",
              "      <th>author</th>\n",
              "      <th>subreddit</th>\n",
              "      <th>score</th>\n",
              "      <th>parent_comment</th>\n",
              "      <th>comment_num_exclamation_marks</th>\n",
              "      <th>parent_comment_num_exclamation_marks</th>\n",
              "      <th>comment_num_repeated_exclamation_marks</th>\n",
              "      <th>parent_comment_num_repeated_exclamation_marks</th>\n",
              "      <th>comment_num_emoticons</th>\n",
              "      <th>parent_comment_num_emoticons</th>\n",
              "      <th>comment_num_slang</th>\n",
              "      <th>parent_comment_num_slang</th>\n",
              "    </tr>\n",
              "  </thead>\n",
              "  <tbody>\n",
              "    <tr>\n",
              "      <th>count</th>\n",
              "      <td>962295.000000</td>\n",
              "      <td>962295</td>\n",
              "      <td>962295</td>\n",
              "      <td>962295</td>\n",
              "      <td>962295.000000</td>\n",
              "      <td>962295</td>\n",
              "      <td>962295.000000</td>\n",
              "      <td>962295.000000</td>\n",
              "      <td>962295.000000</td>\n",
              "      <td>962295.000000</td>\n",
              "      <td>962295.000000</td>\n",
              "      <td>962295.000000</td>\n",
              "      <td>962295.000000</td>\n",
              "      <td>962295.000000</td>\n",
              "    </tr>\n",
              "    <tr>\n",
              "      <th>unique</th>\n",
              "      <td>NaN</td>\n",
              "      <td>962295</td>\n",
              "      <td>255943</td>\n",
              "      <td>14424</td>\n",
              "      <td>NaN</td>\n",
              "      <td>939318</td>\n",
              "      <td>NaN</td>\n",
              "      <td>NaN</td>\n",
              "      <td>NaN</td>\n",
              "      <td>NaN</td>\n",
              "      <td>NaN</td>\n",
              "      <td>NaN</td>\n",
              "      <td>NaN</td>\n",
              "      <td>NaN</td>\n",
              "    </tr>\n",
              "    <tr>\n",
              "      <th>top</th>\n",
              "      <td>NaN</td>\n",
              "      <td>I hope you would have</td>\n",
              "      <td>Biffingston</td>\n",
              "      <td>AskReddit</td>\n",
              "      <td>NaN</td>\n",
              "      <td>me irl</td>\n",
              "      <td>NaN</td>\n",
              "      <td>NaN</td>\n",
              "      <td>NaN</td>\n",
              "      <td>NaN</td>\n",
              "      <td>NaN</td>\n",
              "      <td>NaN</td>\n",
              "      <td>NaN</td>\n",
              "      <td>NaN</td>\n",
              "    </tr>\n",
              "    <tr>\n",
              "      <th>freq</th>\n",
              "      <td>NaN</td>\n",
              "      <td>1</td>\n",
              "      <td>825</td>\n",
              "      <td>61842</td>\n",
              "      <td>NaN</td>\n",
              "      <td>230</td>\n",
              "      <td>NaN</td>\n",
              "      <td>NaN</td>\n",
              "      <td>NaN</td>\n",
              "      <td>NaN</td>\n",
              "      <td>NaN</td>\n",
              "      <td>NaN</td>\n",
              "      <td>NaN</td>\n",
              "      <td>NaN</td>\n",
              "    </tr>\n",
              "    <tr>\n",
              "      <th>mean</th>\n",
              "      <td>0.503068</td>\n",
              "      <td>NaN</td>\n",
              "      <td>NaN</td>\n",
              "      <td>NaN</td>\n",
              "      <td>7.049083</td>\n",
              "      <td>NaN</td>\n",
              "      <td>0.096362</td>\n",
              "      <td>0.119993</td>\n",
              "      <td>0.000395</td>\n",
              "      <td>0.011411</td>\n",
              "      <td>0.007009</td>\n",
              "      <td>0.010205</td>\n",
              "      <td>0.019637</td>\n",
              "      <td>0.034702</td>\n",
              "    </tr>\n",
              "    <tr>\n",
              "      <th>std</th>\n",
              "      <td>0.499991</td>\n",
              "      <td>NaN</td>\n",
              "      <td>NaN</td>\n",
              "      <td>NaN</td>\n",
              "      <td>49.298250</td>\n",
              "      <td>NaN</td>\n",
              "      <td>0.303887</td>\n",
              "      <td>2.133957</td>\n",
              "      <td>0.034235</td>\n",
              "      <td>0.209312</td>\n",
              "      <td>0.088258</td>\n",
              "      <td>0.143290</td>\n",
              "      <td>0.208417</td>\n",
              "      <td>0.211071</td>\n",
              "    </tr>\n",
              "    <tr>\n",
              "      <th>min</th>\n",
              "      <td>0.000000</td>\n",
              "      <td>NaN</td>\n",
              "      <td>NaN</td>\n",
              "      <td>NaN</td>\n",
              "      <td>-507.000000</td>\n",
              "      <td>NaN</td>\n",
              "      <td>0.000000</td>\n",
              "      <td>0.000000</td>\n",
              "      <td>0.000000</td>\n",
              "      <td>0.000000</td>\n",
              "      <td>0.000000</td>\n",
              "      <td>0.000000</td>\n",
              "      <td>0.000000</td>\n",
              "      <td>0.000000</td>\n",
              "    </tr>\n",
              "    <tr>\n",
              "      <th>25%</th>\n",
              "      <td>0.000000</td>\n",
              "      <td>NaN</td>\n",
              "      <td>NaN</td>\n",
              "      <td>NaN</td>\n",
              "      <td>1.000000</td>\n",
              "      <td>NaN</td>\n",
              "      <td>0.000000</td>\n",
              "      <td>0.000000</td>\n",
              "      <td>0.000000</td>\n",
              "      <td>0.000000</td>\n",
              "      <td>0.000000</td>\n",
              "      <td>0.000000</td>\n",
              "      <td>0.000000</td>\n",
              "      <td>0.000000</td>\n",
              "    </tr>\n",
              "    <tr>\n",
              "      <th>50%</th>\n",
              "      <td>1.000000</td>\n",
              "      <td>NaN</td>\n",
              "      <td>NaN</td>\n",
              "      <td>NaN</td>\n",
              "      <td>2.000000</td>\n",
              "      <td>NaN</td>\n",
              "      <td>0.000000</td>\n",
              "      <td>0.000000</td>\n",
              "      <td>0.000000</td>\n",
              "      <td>0.000000</td>\n",
              "      <td>0.000000</td>\n",
              "      <td>0.000000</td>\n",
              "      <td>0.000000</td>\n",
              "      <td>0.000000</td>\n",
              "    </tr>\n",
              "    <tr>\n",
              "      <th>75%</th>\n",
              "      <td>1.000000</td>\n",
              "      <td>NaN</td>\n",
              "      <td>NaN</td>\n",
              "      <td>NaN</td>\n",
              "      <td>5.000000</td>\n",
              "      <td>NaN</td>\n",
              "      <td>0.000000</td>\n",
              "      <td>0.000000</td>\n",
              "      <td>0.000000</td>\n",
              "      <td>0.000000</td>\n",
              "      <td>0.000000</td>\n",
              "      <td>0.000000</td>\n",
              "      <td>0.000000</td>\n",
              "      <td>0.000000</td>\n",
              "    </tr>\n",
              "    <tr>\n",
              "      <th>max</th>\n",
              "      <td>1.000000</td>\n",
              "      <td>NaN</td>\n",
              "      <td>NaN</td>\n",
              "      <td>NaN</td>\n",
              "      <td>9070.000000</td>\n",
              "      <td>NaN</td>\n",
              "      <td>44.000000</td>\n",
              "      <td>1999.000000</td>\n",
              "      <td>22.000000</td>\n",
              "      <td>85.000000</td>\n",
              "      <td>16.000000</td>\n",
              "      <td>79.000000</td>\n",
              "      <td>144.000000</td>\n",
              "      <td>13.000000</td>\n",
              "    </tr>\n",
              "  </tbody>\n",
              "</table>\n",
              "</div>"
            ],
            "text/plain": [
              "                label  ... parent_comment_num_slang\n",
              "count   962295.000000  ...            962295.000000\n",
              "unique            NaN  ...                      NaN\n",
              "top               NaN  ...                      NaN\n",
              "freq              NaN  ...                      NaN\n",
              "mean         0.503068  ...                 0.034702\n",
              "std          0.499991  ...                 0.211071\n",
              "min          0.000000  ...                 0.000000\n",
              "25%          0.000000  ...                 0.000000\n",
              "50%          1.000000  ...                 0.000000\n",
              "75%          1.000000  ...                 0.000000\n",
              "max          1.000000  ...                13.000000\n",
              "\n",
              "[11 rows x 14 columns]"
            ]
          },
          "metadata": {},
          "execution_count": 91
        }
      ]
    },
    {
      "cell_type": "code",
      "metadata": {
        "id": "DUBQJCvh9VK5"
      },
      "source": [
        "# convert to str and lower case\n",
        "for col in ['comment', 'author', 'subreddit', 'parent_comment']:\n",
        "  data_single[col] = data_single[col].astype(str)\n",
        "  data_single[col] = data_single[col].str.lower()"
      ],
      "id": "DUBQJCvh9VK5",
      "execution_count": 92,
      "outputs": []
    },
    {
      "cell_type": "code",
      "metadata": {
        "id": "Vd1BQjn7-n8J"
      },
      "source": [
        "data_single.label.value_counts()\n",
        "input = data_single"
      ],
      "id": "Vd1BQjn7-n8J",
      "execution_count": 93,
      "outputs": []
    },
    {
      "cell_type": "markdown",
      "metadata": {
        "id": "4OjhKtZ3EJFS"
      },
      "source": [
        "**Building model**"
      ],
      "id": "4OjhKtZ3EJFS"
    },
    {
      "cell_type": "code",
      "metadata": {
        "id": "hL3KGV9JBWLR"
      },
      "source": [
        "stop_words = stopwords.words('english')\n"
      ],
      "id": "hL3KGV9JBWLR",
      "execution_count": null,
      "outputs": []
    },
    {
      "cell_type": "code",
      "metadata": {
        "id": "HPEfuOgBIw2L"
      },
      "source": [
        "# list of word types (nouns and adjectives) to leave in the text\n",
        "defTags = ['NN', 'NNS', 'NNP', 'NNPS', 'JJ', 'JJS', 'JJR']#, 'RB', 'RBS', 'RBR', 'VB', 'VBD', 'VBG', 'VBN', 'VBP', 'VBZ']\n",
        "\n",
        "# functions to determine the type of a word\n",
        "def is_noun(tag):\n",
        "    return tag in ['NN', 'NNS', 'NNP', 'NNPS']\n",
        "\n",
        "\n",
        "def is_verb(tag):\n",
        "    return tag in ['VB', 'VBD', 'VBG', 'VBN', 'VBP', 'VBZ']\n",
        "\n",
        "\n",
        "def is_adverb(tag):\n",
        "    return tag in ['RB', 'RBR', 'RBS']\n",
        "\n",
        "\n",
        "def is_adjective(tag):\n",
        "    return tag in ['JJ', 'JJR', 'JJS']\n",
        "\n",
        "# transform tag forms\n",
        "def penn_to_wn(tag):\n",
        "    if is_adjective(tag):\n",
        "        return nltk.stem.wordnet.wordnet.ADJ\n",
        "    elif is_noun(tag):\n",
        "        return nltk.stem.wordnet.wordnet.NOUN\n",
        "    elif is_adverb(tag):\n",
        "        return nltk.stem.wordnet.wordnet.ADV\n",
        "    elif is_verb(tag):\n",
        "        return nltk.stem.wordnet.wordnet.VERB\n",
        "    return nltk.stem.wordnet.wordnet.NOUN\n",
        "    \n",
        "# lemmatizer + tokenizer (+ stemming) class\n",
        "class LemmaTokenizer(object):\n",
        "    def __init__(self):\n",
        "        self.wnl = WordNetLemmatizer()\n",
        "        # we define (but not use) a stemming method, uncomment the last line in __call__ to get stemming tooo\n",
        "        self.stemmer = nltk.stem.SnowballStemmer('english') \n",
        "    def __call__(self, doc):\n",
        "        # pattern for numbers | words of length=2 | punctuations | words of length=1\n",
        "        pattern = re.compile(r'[0-9]+|\\b[\\w]{2,2}\\b|[%.,_`!\"&?\\')({~@;:#}+-]+|\\b[\\w]{1,1}\\b')\n",
        "        # tokenize document\n",
        "        doc_tok = word_tokenize(doc)\n",
        "        #filter out patterns from words\n",
        "        doc_tok = [x for x in doc_tok if x not in stop_words]\n",
        "        doc_tok = [pattern.sub('', x) for x in doc_tok]\n",
        "        # get rid of anything with length=1\n",
        "        doc_tok = [x for x in doc_tok if len(x) > 1]\n",
        "        # position tagging\n",
        "        doc_tagged = nltk.pos_tag(doc_tok)\n",
        "        # selecting nouns and adjectives\n",
        "        doc_tagged = [(t[0], t[1]) for t in doc_tagged if t[1] in defTags]\n",
        "        # preparing lemmatization\n",
        "        doc = [(t[0], penn_to_wn(t[1])) for t in doc_tagged]\n",
        "        # lemmatization\n",
        "        doc = [self.wnl.lemmatize(t[0], t[1]) for t in doc]\n",
        "        # uncomment if you want stemming as well\n",
        "        #doc = [self.stemmer.stem(x) for x in doc]\n",
        "        return doc"
      ],
      "id": "HPEfuOgBIw2L",
      "execution_count": 95,
      "outputs": []
    },
    {
      "cell_type": "code",
      "metadata": {
        "id": "jKR8inpnIz2p"
      },
      "source": [
        "vec_tdidf = TfidfVectorizer(ngram_range=(1,1), analyzer='word', #stop_words=stop_words, \n",
        "                                               norm='l2', tokenizer=LemmaTokenizer())"
      ],
      "id": "jKR8inpnIz2p",
      "execution_count": 96,
      "outputs": []
    },
    {
      "cell_type": "code",
      "metadata": {
        "id": "97VSGSt1JJxy"
      },
      "source": [
        "clf = XGBClassifier(random_state=42, seed=2, colsample_bytree=0.6, subsample=0.7)"
      ],
      "id": "97VSGSt1JJxy",
      "execution_count": 97,
      "outputs": []
    },
    {
      "cell_type": "code",
      "metadata": {
        "id": "fqia-hLCJOpp"
      },
      "source": [
        "class TextSelector(BaseEstimator, TransformerMixin):\n",
        "    \"\"\"\n",
        "    Transformer to select a single column from the data frame to perform additional transformations on\n",
        "    Use on text columns in the data\n",
        "    \"\"\"\n",
        "    def __init__(self, key):\n",
        "        self.key = key\n",
        "\n",
        "    def fit(self, X, y=None, *parg, **kwarg):\n",
        "        return self\n",
        "\n",
        "    def transform(self, X):\n",
        "        # returns the input as a string\n",
        "        return X[self.key]\n",
        "    \n",
        "class NumberSelector(BaseEstimator, TransformerMixin):\n",
        "    \"\"\"\n",
        "    Transformer to select a single column from the data frame to perform additional transformations on\n",
        "    Use on numeric columns in the data\n",
        "    \"\"\"\n",
        "    def __init__(self, key):\n",
        "        self.key = key\n",
        "\n",
        "    def fit(self, X, y=None):\n",
        "        return self\n",
        "\n",
        "    def transform(self, X):\n",
        "        # returns the input as a dataframe\n",
        "        return X[[self.key]]"
      ],
      "id": "fqia-hLCJOpp",
      "execution_count": 98,
      "outputs": []
    },
    {
      "cell_type": "code",
      "metadata": {
        "id": "GT5SN-0cJoXL"
      },
      "source": [
        "def print_stats(preds, target, labels, sep='-', sep_len=40, fig_size=(10,8)):\n",
        "    print('Accuracy = %.3f' % metrics.accuracy_score(target, preds))\n",
        "    print(sep*sep_len)\n",
        "    print('Classification report:')\n",
        "    print(metrics.classification_report(target, preds))\n",
        "    print(sep*sep_len)\n",
        "    print('Confusion matrix')\n",
        "    cm=metrics.confusion_matrix(target, preds)\n",
        "    cm = cm / np.sum(cm, axis=1)[:,None]\n",
        "    sns.set(rc={'figure.figsize':fig_size})\n",
        "    sns.heatmap(cm, \n",
        "        xticklabels=labels,\n",
        "        yticklabels=labels,\n",
        "           annot=True, cmap = 'YlGnBu')\n",
        "    plt.pause(0.05)"
      ],
      "id": "GT5SN-0cJoXL",
      "execution_count": 99,
      "outputs": []
    },
    {
      "cell_type": "code",
      "metadata": {
        "id": "4cRcNisvJtBa"
      },
      "source": [
        "comment = Pipeline([\n",
        "                ('selector', TextSelector(key='comment')),\n",
        "                ('vectorizer', vec_tdidf)\n",
        "                ])\n",
        "author = Pipeline([\n",
        "                ('selector', TextSelector(key='author')),\n",
        "                ('vectorizer', vec_tdidf)\n",
        "                ])\n",
        "subreddit = Pipeline([\n",
        "                ('selector', TextSelector(key='subreddit')),\n",
        "                ('vectorizer', vec_tdidf)\n",
        "                ])\n",
        "pcomment = Pipeline([\n",
        "                ('selector', TextSelector(key='parent_comment')),\n",
        "                ('vectorizer', vec_tdidf)\n",
        "                ])"
      ],
      "id": "4cRcNisvJtBa",
      "execution_count": 100,
      "outputs": []
    },
    {
      "cell_type": "code",
      "metadata": {
        "id": "CGJ8LSTmKfxB"
      },
      "source": [
        "score = Pipeline([\n",
        "                  ('selector', NumberSelector(key='score'))\n",
        "                ])"
      ],
      "id": "CGJ8LSTmKfxB",
      "execution_count": 101,
      "outputs": []
    },
    {
      "cell_type": "code",
      "metadata": {
        "id": "hut10WgbKsBa"
      },
      "source": [
        "feats = FeatureUnion([('comment', comment),\n",
        "                      ('author', author),\n",
        "                      ('subreddit', subreddit),\n",
        "                      ('parent_comment', pcomment),\n",
        "                      ('score', score)\n",
        "                      ])"
      ],
      "id": "hut10WgbKsBa",
      "execution_count": 102,
      "outputs": []
    },
    {
      "cell_type": "code",
      "metadata": {
        "id": "hYSMjlXzKx9Z"
      },
      "source": [
        "pipe = Pipeline([('feats', feats),\n",
        "                 ('clf',clf)\n",
        "                 ])"
      ],
      "id": "hYSMjlXzKx9Z",
      "execution_count": 103,
      "outputs": []
    },
    {
      "cell_type": "code",
      "metadata": {
        "colab": {
          "base_uri": "https://localhost:8080/"
        },
        "id": "jvjse2aFK5mZ",
        "outputId": "14114eea-28a6-46cc-840a-c6974f662714"
      },
      "source": [
        "pipe.named_steps['clf'].get_params()"
      ],
      "id": "jvjse2aFK5mZ",
      "execution_count": 104,
      "outputs": [
        {
          "output_type": "execute_result",
          "data": {
            "text/plain": [
              "{'base_score': 0.5,\n",
              " 'booster': 'gbtree',\n",
              " 'colsample_bylevel': 1,\n",
              " 'colsample_bynode': 1,\n",
              " 'colsample_bytree': 0.6,\n",
              " 'gamma': 0,\n",
              " 'learning_rate': 0.1,\n",
              " 'max_delta_step': 0,\n",
              " 'max_depth': 3,\n",
              " 'min_child_weight': 1,\n",
              " 'missing': None,\n",
              " 'n_estimators': 100,\n",
              " 'n_jobs': 1,\n",
              " 'nthread': None,\n",
              " 'objective': 'binary:logistic',\n",
              " 'random_state': 42,\n",
              " 'reg_alpha': 0,\n",
              " 'reg_lambda': 1,\n",
              " 'scale_pos_weight': 1,\n",
              " 'seed': 2,\n",
              " 'silent': None,\n",
              " 'subsample': 0.7,\n",
              " 'verbosity': 1}"
            ]
          },
          "metadata": {},
          "execution_count": 104
        }
      ]
    },
    {
      "cell_type": "code",
      "metadata": {
        "id": "-fFMLh7aOZdz"
      },
      "source": [
        "combined_features = ['comment','author', 'subreddit', 'parent_comment', 'score']\n",
        "target = 'label'\n",
        "\n",
        "X_train, X_test, y_train, y_test = train_test_split(input[combined_features], input[target], test_size=0.33, random_state=42, stratify=input[target])"
      ],
      "id": "-fFMLh7aOZdz",
      "execution_count": 105,
      "outputs": []
    },
    {
      "cell_type": "code",
      "metadata": {
        "id": "jPlrkVlSPOpi"
      },
      "source": [
        "# definition of parameter grid to scan through\n",
        "param_grid = {\n",
        "     'clf__n_estimators': [50,100,300]\n",
        "#    'clf__colsample_bytree': [0.6,0.8,1]\n",
        "#    'clf__subsample': [0.5, 0.6, 0.7, 0.8, 0.9, 1]\n",
        "}"
      ],
      "id": "jPlrkVlSPOpi",
      "execution_count": 106,
      "outputs": []
    },
    {
      "cell_type": "code",
      "metadata": {
        "id": "DZ9I91xCPQ_e"
      },
      "source": [
        "# grid search cross validation instantiation\n",
        "grid_search = GridSearchCV(estimator = pipe, param_grid = param_grid, \n",
        "                          cv = 3, n_jobs = 1, verbose = 0, return_train_score=True)"
      ],
      "id": "DZ9I91xCPQ_e",
      "execution_count": 107,
      "outputs": []
    },
    {
      "cell_type": "code",
      "metadata": {
        "colab": {
          "base_uri": "https://localhost:8080/"
        },
        "id": "-yuWtnSeSVLK",
        "outputId": "5b033bdb-7bd9-4ca5-97b9-a04110a21825"
      },
      "source": [
        "nltk.download('averaged_perceptron_tagger')"
      ],
      "id": "-yuWtnSeSVLK",
      "execution_count": 115,
      "outputs": [
        {
          "output_type": "stream",
          "name": "stdout",
          "text": [
            "[nltk_data] Downloading package averaged_perceptron_tagger to\n",
            "[nltk_data]     /root/nltk_data...\n",
            "[nltk_data]   Unzipping taggers/averaged_perceptron_tagger.zip.\n"
          ]
        },
        {
          "output_type": "execute_result",
          "data": {
            "text/plain": [
              "True"
            ]
          },
          "metadata": {},
          "execution_count": 115
        }
      ]
    },
    {
      "cell_type": "code",
      "metadata": {
        "id": "BRD_BRZJPSc8"
      },
      "source": [
        "#hyperparameter fitting\n",
        "grid_search.fit(X_train , y_train)"
      ],
      "id": "BRD_BRZJPSc8",
      "execution_count": null,
      "outputs": []
    },
    {
      "cell_type": "code",
      "metadata": {
        "id": "1YyOmrUiSbox"
      },
      "source": [
        "grid_search.cv_results_['mean_train_score']"
      ],
      "id": "1YyOmrUiSbox",
      "execution_count": null,
      "outputs": []
    },
    {
      "cell_type": "code",
      "metadata": {
        "id": "_mv0yeeRSbIT"
      },
      "source": [
        "grid_search.cv_results_['mean_test_score']"
      ],
      "id": "_mv0yeeRSbIT",
      "execution_count": null,
      "outputs": []
    },
    {
      "cell_type": "code",
      "metadata": {
        "id": "NWPx-07zSh03"
      },
      "source": [
        "grid_search.best_params_"
      ],
      "id": "NWPx-07zSh03",
      "execution_count": null,
      "outputs": []
    },
    {
      "cell_type": "code",
      "metadata": {
        "id": "JxWN3vwNSi8L"
      },
      "source": [
        "clf_test = grid_search.best_estimator_"
      ],
      "id": "JxWN3vwNSi8L",
      "execution_count": null,
      "outputs": []
    },
    {
      "cell_type": "code",
      "metadata": {
        "id": "tuOl_ABWSkBr"
      },
      "source": [
        "# test stats\n",
        "preds = clf_test.predict(X_test)"
      ],
      "id": "tuOl_ABWSkBr",
      "execution_count": null,
      "outputs": []
    },
    {
      "cell_type": "code",
      "metadata": {
        "id": "zsbkkDM9SlAY"
      },
      "source": [
        "print_stats(y_test, preds, clf_test.classes_) "
      ],
      "id": "zsbkkDM9SlAY",
      "execution_count": null,
      "outputs": []
    },
    {
      "cell_type": "markdown",
      "metadata": {
        "id": "s09BaZQcpb43"
      },
      "source": [
        "**Plots**"
      ],
      "id": "s09BaZQcpb43"
    },
    {
      "cell_type": "code",
      "metadata": {
        "id": "oMoEMtjzpt9O"
      },
      "source": [
        "import matplotlib.pyplot as plt\n",
        "from wordcloud import WordCloud"
      ],
      "id": "oMoEMtjzpt9O",
      "execution_count": null,
      "outputs": []
    },
    {
      "cell_type": "code",
      "metadata": {
        "id": "yYg8lHEeItiI"
      },
      "source": [
        "sarc_comm = training_csv_feature_engineering.loc[training_csv_feature_engineering.label == 1].comment"
      ],
      "id": "yYg8lHEeItiI",
      "execution_count": 60,
      "outputs": []
    },
    {
      "cell_type": "code",
      "metadata": {
        "colab": {
          "base_uri": "https://localhost:8080/"
        },
        "id": "G_opK-F_vgIv",
        "outputId": "e7bd3631-df07-4f01-84c8-7bc80c0aedcd"
      },
      "source": [
        "sarcastic_comment_words = \" \".join(comment for comment in sarc_comm)\n",
        "print (\"There are {} words in the combination of all review.\".format(len(sarcastic_comment_words)))"
      ],
      "id": "G_opK-F_vgIv",
      "execution_count": 61,
      "outputs": [
        {
          "output_type": "stream",
          "name": "stdout",
          "text": [
            "There are 29033475 words in the combination of all review.\n"
          ]
        }
      ]
    },
    {
      "cell_type": "code",
      "metadata": {
        "id": "bTIDfmSZJdru"
      },
      "source": [
        "nonsarc_comm = training_csv_feature_engineering.loc[training_csv_feature_engineering.label == 0].comment"
      ],
      "id": "bTIDfmSZJdru",
      "execution_count": 62,
      "outputs": []
    },
    {
      "cell_type": "code",
      "metadata": {
        "colab": {
          "base_uri": "https://localhost:8080/"
        },
        "id": "VhUX5MAmJYv3",
        "outputId": "7dd39eae-1bf8-434c-c321-cabd7ef6e63b"
      },
      "source": [
        "nonsarcastic_comment_words = \" \".join(comment for comment in nonsarc_comm)\n",
        "print (\"There are {} words in the combination of all review.\".format(len(nonsarcastic_comment_words)))"
      ],
      "id": "VhUX5MAmJYv3",
      "execution_count": 63,
      "outputs": [
        {
          "output_type": "stream",
          "name": "stdout",
          "text": [
            "There are 29280553 words in the combination of all review.\n"
          ]
        }
      ]
    },
    {
      "cell_type": "code",
      "metadata": {
        "id": "0yaB6Ey_6AGx"
      },
      "source": [
        "wordcloud = WordCloud(stopwords=stop_words_dict, max_font_size=100, max_words=200, background_color=\"white\",width=800, height=400).generate(sarcastic_comments)"
      ],
      "id": "0yaB6Ey_6AGx",
      "execution_count": null,
      "outputs": []
    },
    {
      "cell_type": "code",
      "metadata": {
        "colab": {
          "base_uri": "https://localhost:8080/",
          "height": 215
        },
        "id": "lYv1JZDwp3ll",
        "outputId": "7fbc2ced-5403-48be-e72f-db22b0adc48e"
      },
      "source": [
        "plt.figure()\n",
        "plt.imshow(wordcloud, interpolation=\"bilinear\")\n",
        "plt.axis(\"off\")\n",
        "plt.figure(figsize=(16, 12))\n",
        "plt.show()"
      ],
      "id": "lYv1JZDwp3ll",
      "execution_count": null,
      "outputs": [
        {
          "output_type": "display_data",
          "data": {
            "image/png": "[encoded data removed]",
            "text/plain": [
              "<Figure size 432x288 with 1 Axes>"
            ]
          },
          "metadata": {
            "needs_background": "light"
          }
        },
        {
          "output_type": "display_data",
          "data": {
            "text/plain": [
              "<Figure size 1152x864 with 0 Axes>"
            ]
          },
          "metadata": {}
        }
      ]
    },
    {
      "cell_type": "code",
      "metadata": {
        "id": "kvf53aYzKpno"
      },
      "source": [
        "wordcloud = WordCloud(stopwords=stop_words_dict, max_font_size=100, max_words=200, background_color=\"white\").generate(nonsarcastic_comments)"
      ],
      "id": "kvf53aYzKpno",
      "execution_count": null,
      "outputs": []
    },
    {
      "cell_type": "code",
      "metadata": {
        "colab": {
          "base_uri": "https://localhost:8080/",
          "height": 215
        },
        "id": "fYUc-CjmK0PA",
        "outputId": "63b7ebde-c49f-455c-f88e-85ef1f31ba7a"
      },
      "source": [
        "plt.figure()\n",
        "plt.imshow(wordcloud, interpolation=\"bilinear\")\n",
        "plt.axis(\"off\")\n",
        "plt.figure(figsize=(8,8))\n",
        "plt.show()"
      ],
      "id": "fYUc-CjmK0PA",
      "execution_count": null,
      "outputs": [
        {
          "output_type": "display_data",
          "data": {
            "image/png": "[encoded data removed]",
            "text/plain": [
              "<Figure size 432x288 with 1 Axes>"
            ]
          },
          "metadata": {
            "needs_background": "light"
          }
        },
        {
          "output_type": "display_data",
          "data": {
            "text/plain": [
              "<Figure size 576x576 with 0 Axes>"
            ]
          },
          "metadata": {}
        }
      ]
    },
    {
      "cell_type": "code",
      "metadata": {
        "id": "CTPHrijHQ7cT"
      },
      "source": [
        "!pip install heatmapz"
      ],
      "id": "CTPHrijHQ7cT",
      "execution_count": null,
      "outputs": []
    },
    {
      "cell_type": "code",
      "metadata": {
        "id": "Ht1dcpKySJcE"
      },
      "source": [
        "from heatmap import heatmap, corrplot"
      ],
      "id": "Ht1dcpKySJcE",
      "execution_count": null,
      "outputs": []
    },
    {
      "cell_type": "code",
      "metadata": {
        "colab": {
          "base_uri": "https://localhost:8080/",
          "height": 667
        },
        "id": "BIxsmPZmR17l",
        "outputId": "3703e0fb-cd2d-4387-8e6b-99f30ede0cf2"
      },
      "source": [
        "plt.figure(figsize=(8, 8))\n",
        "corrplot(training_csv_feature_engineering.corr(), size_scale=300);"
      ],
      "id": "BIxsmPZmR17l",
      "execution_count": null,
      "outputs": [
        {
          "output_type": "display_data",
          "data": {
            "image/png": "[encoded data removed]",
            "text/plain": [
              "<Figure size 576x576 with 2 Axes>"
            ]
          },
          "metadata": {
            "needs_background": "light"
          }
        }
      ]
    },
    {
      "cell_type": "code",
      "metadata": {
        "id": "2UgmbGP8gKIA"
      },
      "source": [
        "num_emoticons_comment = training_csv_feature_engineering.comment_num_emoticons\n",
        "num_exclamation_mark = training_csv_feature_engineering.comment_num_exclamation_marks\n",
        "num_rep_exclamation_mark = training_csv_feature_engineering.comment_num_repeated_exclamation_marks\n",
        "num_slang = training_csv_feature_engineering.comment_num_slang\n"
      ],
      "id": "2UgmbGP8gKIA",
      "execution_count": null,
      "outputs": []
    },
    {
      "cell_type": "code",
      "metadata": {
        "id": "yXO0lBUf6Dzr"
      },
      "source": [
        "training_csv_feature_engineering.to_csv('train_feature_engineering2.csv')\n",
        "!cp train_feature_engineering2.csv \"drive/My Drive/\""
      ],
      "id": "yXO0lBUf6Dzr",
      "execution_count": null,
      "outputs": []
    },
    {
      "cell_type": "code",
      "metadata": {
        "id": "GPGaIQCxPf40"
      },
      "source": [
        "## tokenize\n",
        "training_csv_feature_engineering = remove_stopwords_and_tokenize_cols_in_dataset(\n",
        "    training_csv_feature_engineering, COMMENT_AND_PARENT_COMMENT)"
      ],
      "id": "GPGaIQCxPf40",
      "execution_count": null,
      "outputs": []
    },
    {
      "cell_type": "code",
      "metadata": {
        "id": "SnYe9AfnPf40"
      },
      "source": [
        "## Add AFTER tokenization features\n",
        "training_csv_feature_engineering = add_length_feature_to_dataset(\n",
        "    training_csv_feature_engineering, COMMENT_AND_PARENT_COMMENT)\n",
        "\n",
        "training_csv_feature_engineering = add_feature_history_to_train(\n",
        "    training_csv_feature_engineering, AUTHOR)\n",
        "\n",
        "training_csv_feature_engineering = add_feature_history_to_train(\n",
        "    training_csv_feature_engineering, SUBREDDIT)"
      ],
      "id": "SnYe9AfnPf40",
      "execution_count": null,
      "outputs": []
    },
    {
      "cell_type": "code",
      "metadata": {
        "id": "ZDyafQwwPf41"
      },
      "source": [
        "## Normalise added features\n",
        "from sklearn.preprocessing import MinMaxScaler\n",
        "\n",
        "scaler = MinMaxScaler() \n",
        "scaled_values = scaler.fit_transform(training_csv_feature_engineering.iloc[:, 10:]) \n",
        "training_csv_feature_engineering.iloc[:,10:] = scaled_values"
      ],
      "id": "ZDyafQwwPf41",
      "execution_count": null,
      "outputs": []
    },
    {
      "cell_type": "code",
      "metadata": {
        "id": "NQNRP_97Pf41",
        "colab": {
          "base_uri": "https://localhost:8080/",
          "height": 530
        },
        "outputId": "23b2a322-646a-455a-d205-3ec83083cb3d"
      },
      "source": [
        "## Preview of features\n",
        "## Engineered features from column 10 to end (0 based indexing)\n",
        "training_csv_feature_engineering.head()"
      ],
      "id": "NQNRP_97Pf41",
      "execution_count": null,
      "outputs": [
        {
          "output_type": "execute_result",
          "data": {
            "text/html": [
              "<div>\n",
              "<style scoped>\n",
              "    .dataframe tbody tr th:only-of-type {\n",
              "        vertical-align: middle;\n",
              "    }\n",
              "\n",
              "    .dataframe tbody tr th {\n",
              "        vertical-align: top;\n",
              "    }\n",
              "\n",
              "    .dataframe thead th {\n",
              "        text-align: right;\n",
              "    }\n",
              "</style>\n",
              "<table border=\"1\" class=\"dataframe\">\n",
              "  <thead>\n",
              "    <tr style=\"text-align: right;\">\n",
              "      <th></th>\n",
              "      <th>label</th>\n",
              "      <th>comment</th>\n",
              "      <th>author</th>\n",
              "      <th>subreddit</th>\n",
              "      <th>score</th>\n",
              "      <th>ups</th>\n",
              "      <th>downs</th>\n",
              "      <th>date</th>\n",
              "      <th>created_utc</th>\n",
              "      <th>parent_comment</th>\n",
              "      <th>comment_num_exclamation_marks</th>\n",
              "      <th>parent_comment_num_exclamation_marks</th>\n",
              "      <th>comment_num_repeated_exclamation_marks</th>\n",
              "      <th>parent_comment_num_repeated_exclamation_marks</th>\n",
              "      <th>comment_num_emoticons</th>\n",
              "      <th>parent_comment_num_emoticons</th>\n",
              "      <th>comment_num_slang</th>\n",
              "      <th>parent_comment_num_slang</th>\n",
              "    </tr>\n",
              "  </thead>\n",
              "  <tbody>\n",
              "    <tr>\n",
              "      <th>0</th>\n",
              "      <td>0</td>\n",
              "      <td>[NC, NH, .]</td>\n",
              "      <td>Trumpbart</td>\n",
              "      <td>politics</td>\n",
              "      <td>2</td>\n",
              "      <td>-1</td>\n",
              "      <td>-1</td>\n",
              "      <td>2016-10</td>\n",
              "      <td>2016-10-16 23:55:23</td>\n",
              "      <td>Yeah, I get that argument. At this point, I'd ...</td>\n",
              "      <td>0</td>\n",
              "      <td>0</td>\n",
              "      <td>0</td>\n",
              "      <td>0</td>\n",
              "      <td>0</td>\n",
              "      <td>0</td>\n",
              "      <td>0</td>\n",
              "      <td>0</td>\n",
              "    </tr>\n",
              "    <tr>\n",
              "      <th>1</th>\n",
              "      <td>0</td>\n",
              "      <td>[You, know, west, teams, play, west, teams, ea...</td>\n",
              "      <td>Shbshb906</td>\n",
              "      <td>nba</td>\n",
              "      <td>-4</td>\n",
              "      <td>-1</td>\n",
              "      <td>-1</td>\n",
              "      <td>2016-11</td>\n",
              "      <td>2016-11-01 00:24:10</td>\n",
              "      <td>The blazers and Mavericks (The wests 5 and 6 s...</td>\n",
              "      <td>0</td>\n",
              "      <td>0</td>\n",
              "      <td>0</td>\n",
              "      <td>0</td>\n",
              "      <td>0</td>\n",
              "      <td>0</td>\n",
              "      <td>0</td>\n",
              "      <td>0</td>\n",
              "    </tr>\n",
              "    <tr>\n",
              "      <th>2</th>\n",
              "      <td>0</td>\n",
              "      <td>[They, underdogs, earlier, today, ,, since, Gr...</td>\n",
              "      <td>Creepeth</td>\n",
              "      <td>nfl</td>\n",
              "      <td>3</td>\n",
              "      <td>3</td>\n",
              "      <td>0</td>\n",
              "      <td>2016-09</td>\n",
              "      <td>2016-09-22 21:45:37</td>\n",
              "      <td>They're favored to win.</td>\n",
              "      <td>0</td>\n",
              "      <td>0</td>\n",
              "      <td>0</td>\n",
              "      <td>0</td>\n",
              "      <td>0</td>\n",
              "      <td>0</td>\n",
              "      <td>0</td>\n",
              "      <td>0</td>\n",
              "    </tr>\n",
              "    <tr>\n",
              "      <th>3</th>\n",
              "      <td>0</td>\n",
              "      <td>[This, meme, n't, funny, none, ``, new, york, ...</td>\n",
              "      <td>icebrotha</td>\n",
              "      <td>BlackPeopleTwitter</td>\n",
              "      <td>-8</td>\n",
              "      <td>-1</td>\n",
              "      <td>-1</td>\n",
              "      <td>2016-10</td>\n",
              "      <td>2016-10-18 21:03:47</td>\n",
              "      <td>deadass don't kill my buzz</td>\n",
              "      <td>0</td>\n",
              "      <td>0</td>\n",
              "      <td>0</td>\n",
              "      <td>0</td>\n",
              "      <td>0</td>\n",
              "      <td>0</td>\n",
              "      <td>0</td>\n",
              "      <td>0</td>\n",
              "    </tr>\n",
              "    <tr>\n",
              "      <th>4</th>\n",
              "      <td>0</td>\n",
              "      <td>[I, could, use, one, tools, .]</td>\n",
              "      <td>cush2push</td>\n",
              "      <td>MaddenUltimateTeam</td>\n",
              "      <td>6</td>\n",
              "      <td>-1</td>\n",
              "      <td>-1</td>\n",
              "      <td>2016-12</td>\n",
              "      <td>2016-12-30 17:00:13</td>\n",
              "      <td>Yep can confirm I saw the tool they use for th...</td>\n",
              "      <td>0</td>\n",
              "      <td>0</td>\n",
              "      <td>0</td>\n",
              "      <td>0</td>\n",
              "      <td>0</td>\n",
              "      <td>0</td>\n",
              "      <td>0</td>\n",
              "      <td>0</td>\n",
              "    </tr>\n",
              "  </tbody>\n",
              "</table>\n",
              "</div>"
            ],
            "text/plain": [
              "   label  ... parent_comment_num_slang\n",
              "0      0  ...                        0\n",
              "1      0  ...                        0\n",
              "2      0  ...                        0\n",
              "3      0  ...                        0\n",
              "4      0  ...                        0\n",
              "\n",
              "[5 rows x 18 columns]"
            ]
          },
          "metadata": {},
          "execution_count": 26
        }
      ]
    },
    {
      "cell_type": "code",
      "metadata": {
        "id": "uXImEa1nPf41"
      },
      "source": [
        "## for downloading df into csv for R visualisation\n",
        "## training_csv_feature_engineering.to_csv (r'FOLDER_PATH\\FILE_NAME.csv', index = False, header=True)"
      ],
      "id": "uXImEa1nPf41",
      "execution_count": null,
      "outputs": []
    },
    {
      "cell_type": "code",
      "metadata": {
        "id": "fOh0AB17Pf41"
      },
      "source": [
        ""
      ],
      "id": "fOh0AB17Pf41",
      "execution_count": null,
      "outputs": []
    }
  ]
}